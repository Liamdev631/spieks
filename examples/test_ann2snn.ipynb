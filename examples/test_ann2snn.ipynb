{
 "cells": [
  {
   "cell_type": "code",
   "execution_count": 6,
   "metadata": {},
   "outputs": [
    {
     "name": "stdout",
     "output_type": "stream",
     "text": [
      "Using pytorch 2.3.1.post100\n",
      "Using device (cuda)\n"
     ]
    }
   ],
   "source": [
    "%reload_ext autoreload\n",
    "%autoreload 2\n",
    "from spieks.ann.training import train_ann\n",
    "import torch\n",
    "import torch.nn as nn\n",
    "import torchvision\n",
    "from torch.utils.data import DataLoader\n",
    "from collections import OrderedDict\n",
    "import os\n",
    "\n",
    "print(f\"Using pytorch {torch.__version__}\")\n",
    "\n",
    "N = 512\n",
    "T = 2.0\n",
    "DT = 1e-2\n",
    "\n",
    "MAX_HZ = 10\n",
    "\n",
    "BS = 64\n",
    "LR = 1e-3\n",
    "EPOCHS = 40\n",
    "\n",
    "# Check if CUDA is available\n",
    "device = torch.device(\"cuda\" if torch.cuda.is_available() else \"cpu\")\n",
    "print(f'Using device ({device})')"
   ]
  },
  {
   "cell_type": "markdown",
   "metadata": {},
   "source": [
    "Seeding"
   ]
  },
  {
   "cell_type": "code",
   "execution_count": 7,
   "metadata": {},
   "outputs": [],
   "source": [
    "SEED = 42\n",
    "\n",
    "torch.manual_seed(SEED)\n",
    "if torch.cuda.is_available():\n",
    "    torch.cuda.manual_seed(SEED)"
   ]
  },
  {
   "cell_type": "markdown",
   "metadata": {},
   "source": [
    "Define the model"
   ]
  },
  {
   "cell_type": "code",
   "execution_count": 8,
   "metadata": {},
   "outputs": [],
   "source": [
    "class MNISTModel(nn.Module):\n",
    "\tdef __init__(self):\n",
    "\t\tsuper(MNISTModel, self).__init__()\n",
    "\t\tself.flatten = nn.Flatten()\n",
    "\t\tself.w1 = nn.Linear(28 * 28, 128)\n",
    "\t\tself.r1 = nn.ReLU()\n",
    "\t\tself.w2 = nn.Linear(128, 64)\n",
    "\t\tself.r2 = nn.ReLU()\n",
    "\t\tself.w3 = nn.Linear(64, 10)\n",
    "\t\tself.r3 = nn.ReLU()\n",
    "\n",
    "\t\tnn.init.kaiming_uniform_(self.w1.weight, nonlinearity='relu')\n",
    "\t\tnn.init.kaiming_uniform_(self.w2.weight, nonlinearity='relu')\n",
    "\t\tnn.init.kaiming_uniform_(self.w3.weight, nonlinearity='relu')\n",
    "\n",
    "\tdef forward(self, x):\n",
    "\t\tx = self.flatten(x)\n",
    "\t\tx = self.w1(x)\n",
    "\t\tx = self.r1(x)\n",
    "\t\t#print('l1', x.sum())\n",
    "\t\tx = self.w2(x)\n",
    "\t\tx = self.r2(x)\n",
    "\t\t#print('l2', x.sum())\n",
    "\t\tx = self.w3(x)\n",
    "\t\tx = self.r3(x)\n",
    "\t\t#print('l3', x.sum())\n",
    "\t\treturn x"
   ]
  },
  {
   "cell_type": "markdown",
   "metadata": {},
   "source": [
    "Train the base ANN on MNSIT"
   ]
  },
  {
   "cell_type": "code",
   "execution_count": 9,
   "metadata": {},
   "outputs": [
    {
     "name": "stdout",
     "output_type": "stream",
     "text": [
      "Using device (cuda)\n",
      "Model loaded from file: tmp/models/best_mnist_model.pth\n"
     ]
    }
   ],
   "source": [
    "model_path = \"tmp/models/best_mnist_model.pth\"\n",
    "transform = torchvision.transforms.Compose([torchvision.transforms.ToTensor()])\n",
    "train_dataset = torchvision.datasets.MNIST(root='./tmp/data/', train=True, transform=transform, download=True)\n",
    "test_dataset = torchvision.datasets.MNIST(root='./tmp/data/', train=False, transform=transform, download=False)\n",
    "train_loader = DataLoader(train_dataset, batch_size=BS, shuffle=True, drop_last=True, pin_memory=True, num_workers=8)\n",
    "test_loader = DataLoader(test_dataset, batch_size=BS, shuffle=True, drop_last=True, pin_memory=True, num_workers=8)\n",
    "\n",
    "# Check if CUDA is available\n",
    "device = torch.device(\"cuda\" if torch.cuda.is_available() else \"cpu\")\n",
    "print(f'Using device ({device})')\n",
    "\n",
    "# Initialize model\n",
    "model = MNISTModel().to(device)\n",
    "\n",
    "# Replace all ReLU layers with QCFS to improve SNN inference\n",
    "from spieks.network.converter import swap_layers\n",
    "from spieks.ann.neurons import QCFS\n",
    "swap_layers(model, old_layer_type=nn.ReLU, new_layer_type=QCFS, neuron_args={ \"Q\": 8 })\n",
    "\n",
    "# Load or train model\n",
    "if os.path.exists(model_path):\n",
    "\t# Load model if it exists\n",
    "\tmodel.load_state_dict(torch.load(model_path))\n",
    "\tprint(\"Model loaded from file:\", model_path)\n",
    "else:\n",
    "\t# Train from scratch otherwise\n",
    "\tloss_fn = nn.CrossEntropyLoss()\n",
    "\tmodel = train_ann(model, train_loader, test_loader, loss_fn, EPOCHS, device, save_path=model_path)"
   ]
  },
  {
   "cell_type": "code",
   "execution_count": 10,
   "metadata": {},
   "outputs": [
    {
     "name": "stdout",
     "output_type": "stream",
     "text": [
      "ANN Loss (CrossEntropy): 0.023488527187743247\n",
      "ANN Accuracy (CrossEntropy): 0.9564302884615384\n"
     ]
    }
   ],
   "source": [
    "# Calculate the ANN loss and accuracy\n",
    "from spieks.ann.training import test_ann\n",
    "ann_loss, ann_acc = test_ann(model, device, test_loader, loss_fn=nn.CrossEntropyLoss())\n",
    "print(f\"ANN Loss (CrossEntropy): {ann_loss}\")\n",
    "print(f\"ANN Accuracy (CrossEntropy): {ann_acc}\")"
   ]
  },
  {
   "cell_type": "markdown",
   "metadata": {},
   "source": [
    "Convert the ANN to an SNN"
   ]
  },
  {
   "cell_type": "code",
   "execution_count": 11,
   "metadata": {},
   "outputs": [],
   "source": [
    "from spieks.network.converter import Converter\n",
    "from spieks.neurons import IF\n",
    "spiking_model = Converter.convert(model, DT, model_subs={ QCFS: IF })"
   ]
  },
  {
   "cell_type": "markdown",
   "metadata": {},
   "source": [
    "Evaluate the SNN on classification"
   ]
  },
  {
   "cell_type": "code",
   "execution_count": null,
   "metadata": {},
   "outputs": [
    {
     "data": {
      "application/vnd.jupyter.widget-view+json": {
       "model_id": "dc99a4b82c5a43da8e1dcb32e6e04399",
       "version_major": 2,
       "version_minor": 0
      },
      "text/plain": [
       "  0%|          | 0/156 [00:00<?, ?it/s]"
      ]
     },
     "metadata": {},
     "output_type": "display_data"
    }
   ],
   "source": [
    "from spieks.simulator import Classifier\n",
    "classifier = Classifier(spiking_model, T, test_loader)\n",
    "loss, accuracy = classifier.run(device=device)\n",
    "print(f\"Loss: {loss}\")\n",
    "print(f\"Accuracy: {accuracy}\")"
   ]
  }
 ],
 "metadata": {
  "kernelspec": {
   "display_name": "thesis",
   "language": "python",
   "name": "python3"
  },
  "language_info": {
   "codemirror_mode": {
    "name": "ipython",
    "version": 3
   },
   "file_extension": ".py",
   "mimetype": "text/x-python",
   "name": "python",
   "nbconvert_exporter": "python",
   "pygments_lexer": "ipython3",
   "version": "3.11.9"
  }
 },
 "nbformat": 4,
 "nbformat_minor": 2
}
