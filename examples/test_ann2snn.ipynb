{
 "cells": [
  {
   "cell_type": "code",
   "execution_count": 1,
   "metadata": {},
   "outputs": [
    {
     "name": "stdout",
     "output_type": "stream",
     "text": [
      "Using pytorch 2.5.1\n",
      "Using device (cuda)\n"
     ]
    }
   ],
   "source": [
    "%reload_ext autoreload\n",
    "%autoreload 2\n",
    "import torch\n",
    "import torch.nn as nn\n",
    "import torchvision\n",
    "import torchvision.transforms as transforms\n",
    "from torch.utils.data import DataLoader\n",
    "import os\n",
    "from spieks.network.converter import swap_layers\n",
    "from spieks.ann.neurons import QCFS\n",
    "from spieks.ann.training import test_ann, train_ann\n",
    "\n",
    "print(f\"Using pytorch {torch.__version__}\")\n",
    "\n",
    "N = 512\n",
    "T = 5\n",
    "DT = 0.1\n",
    "\n",
    "MAX_HZ = 10\n",
    "\n",
    "BS = 32\n",
    "LR = 1e-4\n",
    "EPOCHS = 40\n",
    "\n",
    "# Check if CUDA is available\n",
    "DEVICE = torch.device(\"cuda\" if torch.cuda.is_available() else \"cpu\")\n",
    "print(f'Using device ({DEVICE})')"
   ]
  },
  {
   "cell_type": "markdown",
   "metadata": {},
   "source": [
    "Seeding"
   ]
  },
  {
   "cell_type": "code",
   "execution_count": 2,
   "metadata": {},
   "outputs": [],
   "source": [
    "SEED = 42\n",
    "\n",
    "torch.manual_seed(SEED)\n",
    "if torch.cuda.is_available():\n",
    "    torch.cuda.manual_seed(SEED)"
   ]
  },
  {
   "cell_type": "markdown",
   "metadata": {},
   "source": [
    "Define the model"
   ]
  },
  {
   "cell_type": "code",
   "execution_count": 3,
   "metadata": {},
   "outputs": [],
   "source": [
    "class MNISTModel(nn.Module):\n",
    "\tdef __init__(self):\n",
    "\t\tsuper(MNISTModel, self).__init__()\n",
    "\t\tself.flatten = nn.Flatten()\n",
    "\t\tself.w1 = nn.Linear(28 * 28, 128)\n",
    "\t\tself.r1 = nn.ReLU()\n",
    "\t\tself.w2 = nn.Linear(128, 64)\n",
    "\t\tself.r2 = nn.ReLU()\n",
    "\t\tself.drop = nn.Dropout(0.5)\n",
    "\t\tself.w3 = nn.Linear(64, 10)\n",
    "\n",
    "\t\tnn.init.kaiming_uniform_(self.w1.weight, nonlinearity='relu')\n",
    "\t\tnn.init.kaiming_uniform_(self.w2.weight, nonlinearity='relu')\n",
    "\t\tnn.init.kaiming_uniform_(self.w3.weight, nonlinearity='relu')\n",
    "\n",
    "\tdef forward(self, x):\n",
    "\t\tx = self.flatten(x)\n",
    "\t\tx = self.r1(self.w1(x))\n",
    "\t\tx = self.r2(self.w2(x))\n",
    "\t\tx = self.drop(x)\n",
    "\t\tx = self.w3(x)\n",
    "\t\treturn x"
   ]
  },
  {
   "cell_type": "markdown",
   "metadata": {},
   "source": [
    "Train the base ANN on MNSIT"
   ]
  },
  {
   "cell_type": "code",
   "execution_count": 4,
   "metadata": {},
   "outputs": [
    {
     "name": "stdout",
     "output_type": "stream",
     "text": [
      "Using device (cuda)\n"
     ]
    },
    {
     "data": {
      "application/vnd.jupyter.widget-view+json": {
       "model_id": "0988e9d195df4c8b8eafeccc699ba7ec",
       "version_major": 2,
       "version_minor": 0
      },
      "text/plain": [
       "  0%|          | 0/40 [00:00<?, ?it/s]"
      ]
     },
     "metadata": {},
     "output_type": "display_data"
    },
    {
     "ename": "FileNotFoundError",
     "evalue": "[Errno 2] No such file or directory: 'tmp/models/mnist.txt'",
     "output_type": "error",
     "traceback": [
      "\u001b[0;31m---------------------------------------------------------------------------\u001b[0m",
      "\u001b[0;31mFileNotFoundError\u001b[0m                         Traceback (most recent call last)",
      "Cell \u001b[0;32mIn[4], line 34\u001b[0m\n\u001b[1;32m     31\u001b[0m \t\u001b[38;5;66;03m# Replace all ReLU layers with QCFS to improve SNN inference\u001b[39;00m\n\u001b[1;32m     32\u001b[0m \tswap_layers(model, old_layer_type\u001b[38;5;241m=\u001b[39mnn\u001b[38;5;241m.\u001b[39mReLU, new_layer_type\u001b[38;5;241m=\u001b[39mQCFS, neuron_args\u001b[38;5;241m=\u001b[39m{ \u001b[38;5;124m\"\u001b[39m\u001b[38;5;124mQ\u001b[39m\u001b[38;5;124m\"\u001b[39m: \u001b[38;5;241m8\u001b[39m })\n\u001b[0;32m---> 34\u001b[0m \tmodel \u001b[38;5;241m=\u001b[39m \u001b[43mtrain_ann\u001b[49m\u001b[43m(\u001b[49m\u001b[43mmodel\u001b[49m\u001b[43m,\u001b[49m\u001b[43m \u001b[49m\u001b[43mtrain_loader\u001b[49m\u001b[43m,\u001b[49m\u001b[43m \u001b[49m\u001b[43mtest_loader\u001b[49m\u001b[43m,\u001b[49m\u001b[43m \u001b[49m\u001b[43mloss_fn\u001b[49m\u001b[43m,\u001b[49m\u001b[43m \u001b[49m\u001b[43mEPOCHS\u001b[49m\u001b[43m,\u001b[49m\u001b[43m \u001b[49m\u001b[43mDEVICE\u001b[49m\u001b[43m,\u001b[49m\u001b[43m \u001b[49m\u001b[43msave_path\u001b[49m\u001b[38;5;241;43m=\u001b[39;49m\u001b[43mmodel_file\u001b[49m\u001b[43m)\u001b[49m\n\u001b[1;32m     36\u001b[0m \u001b[38;5;66;03m# Calculate the ANN loss and accuracy\u001b[39;00m\n\u001b[1;32m     37\u001b[0m ann_loss, ann_acc \u001b[38;5;241m=\u001b[39m test_ann(model, DEVICE, test_loader, loss_fn\u001b[38;5;241m=\u001b[39mnn\u001b[38;5;241m.\u001b[39mCrossEntropyLoss())\n",
      "File \u001b[0;32m~/miniconda3/envs/pgn/lib/python3.11/site-packages/spieks/ann/training.py:65\u001b[0m, in \u001b[0;36mtrain_ann\u001b[0;34m(model, train_loader, test_loader, loss_fn, epochs, device, save_path, b_plot_result, initial_lr, final_lr, weight_decay)\u001b[0m\n\u001b[1;32m     63\u001b[0m \u001b[38;5;66;03m#print(f\"Epoch {epoch}/{epochs}, Loss: {loss:.4f}, Accuracy: {acc*100:.4f}%\")\u001b[39;00m\n\u001b[1;32m     64\u001b[0m pbar\u001b[38;5;241m.\u001b[39mset_description(\u001b[38;5;124mf\u001b[39m\u001b[38;5;124m\"\u001b[39m\u001b[38;5;124mLoss: \u001b[39m\u001b[38;5;132;01m{\u001b[39;00mloss\u001b[38;5;132;01m:\u001b[39;00m\u001b[38;5;124m.3f\u001b[39m\u001b[38;5;132;01m}\u001b[39;00m\u001b[38;5;124m, Accuracy: \u001b[39m\u001b[38;5;132;01m{\u001b[39;00mbest_acc\u001b[38;5;241m*\u001b[39m\u001b[38;5;241m100\u001b[39m\u001b[38;5;132;01m:\u001b[39;00m\u001b[38;5;124m.2f\u001b[39m\u001b[38;5;132;01m}\u001b[39;00m\u001b[38;5;124m%\u001b[39m\u001b[38;5;124m\"\u001b[39m)\n\u001b[0;32m---> 65\u001b[0m \u001b[38;5;28;01mwith\u001b[39;00m \u001b[38;5;28;43mopen\u001b[39;49m\u001b[43m(\u001b[49m\u001b[43msave_path\u001b[49m\u001b[38;5;241;43m.\u001b[39;49m\u001b[43msplit\u001b[49m\u001b[43m(\u001b[49m\u001b[38;5;124;43m\"\u001b[39;49m\u001b[38;5;124;43m.\u001b[39;49m\u001b[38;5;124;43m\"\u001b[39;49m\u001b[43m)\u001b[49m\u001b[43m[\u001b[49m\u001b[38;5;241;43m0\u001b[39;49m\u001b[43m]\u001b[49m\u001b[43m \u001b[49m\u001b[38;5;241;43m+\u001b[39;49m\u001b[43m \u001b[49m\u001b[38;5;124;43m\"\u001b[39;49m\u001b[38;5;124;43m.txt\u001b[39;49m\u001b[38;5;124;43m\"\u001b[39;49m\u001b[43m,\u001b[49m\u001b[43m \u001b[49m\u001b[38;5;124;43m\"\u001b[39;49m\u001b[38;5;124;43ma\u001b[39;49m\u001b[38;5;124;43m\"\u001b[39;49m\u001b[43m)\u001b[49m \u001b[38;5;28;01mas\u001b[39;00m f:\n\u001b[1;32m     66\u001b[0m     f\u001b[38;5;241m.\u001b[39mwrite(\u001b[38;5;124mf\u001b[39m\u001b[38;5;124m\"\u001b[39m\u001b[38;5;132;01m{\u001b[39;00mepoch\u001b[38;5;132;01m}\u001b[39;00m\u001b[38;5;124m,\u001b[39m\u001b[38;5;132;01m{\u001b[39;00mloss\u001b[38;5;132;01m}\u001b[39;00m\u001b[38;5;124m,\u001b[39m\u001b[38;5;132;01m{\u001b[39;00macc\u001b[38;5;132;01m}\u001b[39;00m\u001b[38;5;124m,\u001b[39m\u001b[38;5;132;01m{\u001b[39;00mbest_acc\u001b[38;5;132;01m}\u001b[39;00m\u001b[38;5;130;01m\\n\u001b[39;00m\u001b[38;5;124m\"\u001b[39m)\n\u001b[1;32m     68\u001b[0m \u001b[38;5;66;03m# Save the model if it's the best so far\u001b[39;00m\n",
      "\u001b[0;31mFileNotFoundError\u001b[0m: [Errno 2] No such file or directory: 'tmp/models/mnist.txt'"
     ]
    }
   ],
   "source": [
    "model_path = \"tmp/models\"\n",
    "model_file = f\"{model_path}/mnist.pth\"\n",
    "os.makedirs(os.path.dirname(model_path), exist_ok=True)\n",
    "\n",
    "transform = transforms.Compose([\n",
    "    transforms.ToTensor(),\n",
    "    transforms.Normalize((0.1307,), (0.3081,)),\n",
    "])\n",
    "\n",
    "train_dataset = torchvision.datasets.MNIST(root='./tmp/data/', train=True, transform=transform, download=True)\n",
    "test_dataset = torchvision.datasets.MNIST(root='./tmp/data/', train=False, transform=transform, download=False)\n",
    "train_loader = DataLoader(train_dataset, batch_size=BS, shuffle=True, drop_last=True, pin_memory=True, num_workers=8)\n",
    "test_loader = DataLoader(test_dataset, batch_size=BS, shuffle=True, drop_last=True, pin_memory=True, num_workers=8)\n",
    "\n",
    "# Check if CUDA is available\n",
    "DEVICE = torch.device(\"cuda\" if torch.cuda.is_available() else \"cpu\")\n",
    "print(f'Using device ({DEVICE})')\n",
    "\n",
    "# Initialize model\n",
    "model = MNISTModel().to(DEVICE)\n",
    "\n",
    "# Load or train model\n",
    "if os.path.exists(model_file):\n",
    "\t# Load model if it exists\n",
    "\tmodel.load_state_dict(torch.load(model_file, weights_only=True))\n",
    "\tprint(f\"Model loaded from file: {model_file}\")\n",
    "else:\n",
    "\t# Train from scratch otherwise\n",
    "\tloss_fn = nn.CrossEntropyLoss()\n",
    "\n",
    "\t# Replace all ReLU layers with QCFS to improve SNN inference\n",
    "\tswap_layers(model, old_layer_type=nn.ReLU, new_layer_type=QCFS, neuron_args={ \"Q\": 8 })\n",
    "\t\n",
    "\tmodel = train_ann(model, train_loader, test_loader, loss_fn, EPOCHS, DEVICE, save_path=model_file)\n",
    "\n",
    "# Calculate the ANN loss and accuracy\n",
    "ann_loss, ann_acc = test_ann(model, DEVICE, test_loader, loss_fn=nn.CrossEntropyLoss())\n",
    "print(f\"ANN Loss (CrossEntropy): {ann_loss}\")\n",
    "print(f\"ANN Accuracy (CrossEntropy): {ann_acc}\")"
   ]
  },
  {
   "cell_type": "markdown",
   "metadata": {},
   "source": [
    "Convert the ANN to an SNN"
   ]
  },
  {
   "cell_type": "code",
   "execution_count": null,
   "metadata": {},
   "outputs": [],
   "source": [
    "from spieks.network.converter import Converter\n",
    "from spieks.neurons import IF\n",
    "print(model)\n",
    "spiking_model = Converter.convert(model, DT, model_subs={ nn.ReLU: IF })\n",
    "print(spiking_model)"
   ]
  },
  {
   "cell_type": "markdown",
   "metadata": {},
   "source": [
    "Evaluate the SNN on classification"
   ]
  },
  {
   "cell_type": "code",
   "execution_count": null,
   "metadata": {},
   "outputs": [],
   "source": [
    "from spieks.simulator import Classifier\n",
    "classifier = Classifier(spiking_model, device=DEVICE)\n",
    "activations, loss, accuracy = classifier.evaluate_dataset(test_loader, duration=T)\n",
    "final_accuracy = accuracy[-1]\n",
    "print(f\"Accuracy: {final_accuracy}\")"
   ]
  },
  {
   "cell_type": "code",
   "execution_count": null,
   "metadata": {},
   "outputs": [],
   "source": [
    "import matplotlib.pyplot as plt\n",
    "import numpy as np\n",
    "\n",
    "TIME = np.arange(len(accuracy)) * DT\n",
    "\n",
    "plt.figure()\n",
    "plt.title(\"Accuracy\")\n",
    "plt.hlines(ann_acc, 0, T, linestyles='--', color='C1', label='ReLU Baseline')\n",
    "plt.plot(TIME, accuracy, label='IF')\n",
    "plt.figure()\n",
    "\n",
    "plt.figure()\n",
    "plt.title(\"Loss\")\n",
    "plt.plot(TIME, np.log(loss), label='IF')\n",
    "plt.figure()\n",
    "plt.show()"
   ]
  }
 ],
 "metadata": {
  "kernelspec": {
   "display_name": "pgn",
   "language": "python",
   "name": "python3"
  },
  "language_info": {
   "codemirror_mode": {
    "name": "ipython",
    "version": 3
   },
   "file_extension": ".py",
   "mimetype": "text/x-python",
   "name": "python",
   "nbconvert_exporter": "python",
   "pygments_lexer": "ipython3",
   "version": "3.11.11"
  }
 },
 "nbformat": 4,
 "nbformat_minor": 2
}
