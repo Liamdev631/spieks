{
 "cells": [
  {
   "cell_type": "code",
   "execution_count": 1,
   "metadata": {},
   "outputs": [
    {
     "name": "stdout",
     "output_type": "stream",
     "text": [
      "Using pytorch 2.3.1.post100\n"
     ]
    }
   ],
   "source": [
    "%reload_ext autoreload\n",
    "%autoreload 2\n",
    "from spieks.ann.training import train_ann\n",
    "import torch\n",
    "import torch.nn as nn\n",
    "import torchvision\n",
    "from torch.utils.data import DataLoader\n",
    "import os\n",
    "print(f\"Using pytorch {torch.__version__}\")\n",
    "\n",
    "N = 512\n",
    "T = 1.0\n",
    "DT = 1e-2\n",
    "\n",
    "MAX_HZ = 10\n",
    "\n",
    "BS = 32\n",
    "LR = 1e-3\n",
    "EPOCHS = 40"
   ]
  },
  {
   "cell_type": "markdown",
   "metadata": {},
   "source": [
    "Define the model"
   ]
  },
  {
   "cell_type": "code",
   "execution_count": 2,
   "metadata": {},
   "outputs": [],
   "source": [
    "class MNISTModel(nn.Module):\n",
    "\tdef __init__(self):\n",
    "\t\tsuper(MNISTModel, self).__init__()\n",
    "\t\tself.flatten = nn.Flatten()\n",
    "\t\tself.w1 = nn.Linear(28 * 28, 128)\n",
    "\t\tself.r1 = nn.ReLU()\n",
    "\t\tself.w2 = nn.Linear(128, 64)\n",
    "\t\tself.r2 = nn.ReLU()\n",
    "\t\tself.w3 = nn.Linear(64, 10)\n",
    "\t\t#self.r3 = nn.ReLU()\n",
    "\n",
    "\tdef forward(self, x):\n",
    "\t\tx = self.flatten(x)\n",
    "\t\tx = self.w1(x)\n",
    "\t\tx = self.r1(x)\n",
    "\t\tx = self.w2(x)\n",
    "\t\tx = self.r2(x)\n",
    "\t\tx = self.w3(x)\n",
    "\t\t#x = self.r3(x)\n",
    "\t\treturn x"
   ]
  },
  {
   "cell_type": "markdown",
   "metadata": {},
   "source": [
    "Train the base ANN on MNSIT"
   ]
  },
  {
   "cell_type": "code",
   "execution_count": 3,
   "metadata": {},
   "outputs": [
    {
     "name": "stdout",
     "output_type": "stream",
     "text": [
      "Using device (cuda)\n",
      "Model loaded from file: tmp/models/best_mnist_model.pth\n"
     ]
    }
   ],
   "source": [
    "model_path = \"tmp/models/best_mnist_model.pth\"\n",
    "transform = torchvision.transforms.Compose([torchvision.transforms.ToTensor()])\n",
    "train_dataset = torchvision.datasets.MNIST(root='./tmp/data/', train=True, transform=transform, download=True)\n",
    "test_dataset = torchvision.datasets.MNIST(root='./tmp/data/', train=False, transform=transform, download=False)\n",
    "train_loader = DataLoader(train_dataset, batch_size=BS, shuffle=True, drop_last=True, pin_memory=True)\n",
    "test_loader = DataLoader(test_dataset, batch_size=BS, shuffle=True, drop_last=True, pin_memory=True)\n",
    "\n",
    "# Check if CUDA is available\n",
    "device = torch.device(\"cuda\" if torch.cuda.is_available() else \"cpu\")\n",
    "print(f'Using device ({device})')\n",
    "\n",
    "# Initialize model, criterion, optimizer\n",
    "model = MNISTModel().to(device)\n",
    "if os.path.exists(model_path):\n",
    "\t# Load model if it exists\n",
    "\tmodel.load_state_dict(torch.load(model_path))\n",
    "\tprint(\"Model loaded from file:\", model_path)\n",
    "else:\n",
    "\t# Train from scratch otherwise\n",
    "\tloss_fn = nn.CrossEntropyLoss()\n",
    "\tmodel = train_ann(model, train_loader, test_loader, loss_fn, EPOCHS, device, save_path=model_path)"
   ]
  },
  {
   "cell_type": "markdown",
   "metadata": {},
   "source": [
    "Convert the ANN to an SNN"
   ]
  },
  {
   "cell_type": "code",
   "execution_count": 4,
   "metadata": {},
   "outputs": [
    {
     "name": "stdout",
     "output_type": "stream",
     "text": [
      "SpikingNetwork(\n",
      "  (net): MNISTModel(\n",
      "    (flatten): Flatten(start_dim=1, end_dim=-1)\n",
      "    (w1): Linear(in_features=784, out_features=128, bias=True)\n",
      "    (r1): IF()\n",
      "    (w2): Linear(in_features=128, out_features=64, bias=True)\n",
      "    (r2): IF()\n",
      "    (w3): Linear(in_features=64, out_features=10, bias=True)\n",
      "  )\n",
      ")\n"
     ]
    }
   ],
   "source": [
    "from spieks.network.converter import Converter\n",
    "spiking_model = Converter.convert(model, DT)\n",
    "print(spiking_model)"
   ]
  },
  {
   "cell_type": "markdown",
   "metadata": {},
   "source": [
    "Evaluate the SNN on classification"
   ]
  },
  {
   "cell_type": "code",
   "execution_count": 5,
   "metadata": {},
   "outputs": [
    {
     "data": {
      "application/vnd.jupyter.widget-view+json": {
       "model_id": "5c82f73b6bef46f1a0e56002580390fa",
       "version_major": 2,
       "version_minor": 0
      },
      "text/plain": [
       "  0%|          | 0/157 [00:00<?, ?it/s]"
      ]
     },
     "metadata": {},
     "output_type": "display_data"
    },
    {
     "name": "stdout",
     "output_type": "stream",
     "text": [
      "Loss: 19.23607063293457\n",
      "Accuracy: 0.0974\n"
     ]
    }
   ],
   "source": [
    "from spieks.simulator import Classifier\n",
    "classifier = Classifier(spiking_model, T, test_dataset)\n",
    "loss, accuracy = classifier.run(device=device)\n",
    "print(f\"Loss: {loss}\")\n",
    "print(f\"Accuracy: {accuracy}\")"
   ]
  }
 ],
 "metadata": {
  "kernelspec": {
   "display_name": "thesis",
   "language": "python",
   "name": "python3"
  },
  "language_info": {
   "codemirror_mode": {
    "name": "ipython",
    "version": 3
   },
   "file_extension": ".py",
   "mimetype": "text/x-python",
   "name": "python",
   "nbconvert_exporter": "python",
   "pygments_lexer": "ipython3",
   "version": "3.11.9"
  }
 },
 "nbformat": 4,
 "nbformat_minor": 2
}
