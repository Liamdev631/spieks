{
 "cells": [
  {
   "cell_type": "code",
   "execution_count": 2,
   "metadata": {},
   "outputs": [
    {
     "name": "stdout",
     "output_type": "stream",
     "text": [
      "Using pytorch 2.5.1\n",
      "Using device (cuda)\n"
     ]
    }
   ],
   "source": [
    "%reload_ext autoreload\n",
    "%autoreload 2\n",
    "import torch\n",
    "import torch.nn as nn\n",
    "import torchvision\n",
    "import torchvision.transforms as transforms\n",
    "from torch.utils.data import DataLoader\n",
    "import os\n",
    "from spieks.network.converter import swap_layers\n",
    "from spieks.ann.neurons import QCFS\n",
    "from training import test_ann, train_ann\n",
    "\n",
    "print(f\"Using pytorch {torch.__version__}\")\n",
    "\n",
    "N = 512\n",
    "T = 5\n",
    "DT = 0.1\n",
    "\n",
    "MAX_HZ = 10\n",
    "\n",
    "BS = 32\n",
    "LR = 1e-7\n",
    "EPOCHS = 40\n",
    "\n",
    "# Check if CUDA is available\n",
    "DEVICE = torch.device(\"cuda\" if torch.cuda.is_available() else \"cpu\")\n",
    "print(f'Using device ({DEVICE})')"
   ]
  },
  {
   "cell_type": "markdown",
   "metadata": {},
   "source": [
    "Seeding"
   ]
  },
  {
   "cell_type": "code",
   "execution_count": 3,
   "metadata": {},
   "outputs": [],
   "source": [
    "SEED = 42\n",
    "\n",
    "torch.manual_seed(SEED)\n",
    "if torch.cuda.is_available():\n",
    "    torch.cuda.manual_seed(SEED)"
   ]
  },
  {
   "cell_type": "markdown",
   "metadata": {},
   "source": [
    "Define the model"
   ]
  },
  {
   "cell_type": "code",
   "execution_count": 4,
   "metadata": {},
   "outputs": [],
   "source": [
    "class MNISTModel(nn.Module):\n",
    "\tdef __init__(self):\n",
    "\t\tsuper(MNISTModel, self).__init__()\n",
    "\t\tself.flatten = nn.Flatten()\n",
    "\t\tself.w1 = nn.Linear(28 * 28, 128)\n",
    "\t\tself.r1 = nn.ReLU()\n",
    "\t\tself.w2 = nn.Linear(128, 64)\n",
    "\t\tself.r2 = nn.ReLU()\n",
    "\t\tself.drop = nn.Dropout(0.5)\n",
    "\t\tself.w3 = nn.Linear(64, 10)\n",
    "\n",
    "\t\tnn.init.kaiming_uniform_(self.w1.weight, nonlinearity='relu')\n",
    "\t\tnn.init.kaiming_uniform_(self.w2.weight, nonlinearity='relu')\n",
    "\t\tnn.init.kaiming_uniform_(self.w3.weight, nonlinearity='relu')\n",
    "\n",
    "\tdef forward(self, x):\n",
    "\t\tx = self.flatten(x)\n",
    "\t\tx = self.r1(self.w1(x))\n",
    "\t\tx = self.r2(self.w2(x))\n",
    "\t\tx = self.drop(x)\n",
    "\t\tx = self.w3(x)\n",
    "\t\treturn x"
   ]
  },
  {
   "cell_type": "markdown",
   "metadata": {},
   "source": [
    "Train the base ANN on MNSIT"
   ]
  },
  {
   "cell_type": "code",
   "execution_count": 5,
   "metadata": {},
   "outputs": [
    {
     "name": "stdout",
     "output_type": "stream",
     "text": [
      "Using device (cuda)\n",
      "Model loaded from file: tmp/models/mnist.pth\n",
      "ANN Loss (CrossEntropy): 0.6684855736551608\n",
      "ANN Accuracy (CrossEntropy): 0.9108573717948718\n"
     ]
    }
   ],
   "source": [
    "model_path = \"tmp/models\"\n",
    "model_file = f\"{model_path}/mnist.pth\"\n",
    "os.makedirs(model_path, exist_ok=True)\n",
    "\n",
    "transform = transforms.Compose([\n",
    "    transforms.ToTensor(),\n",
    "    transforms.Normalize((0.1307,), (0.3081,)),\n",
    "])\n",
    "\n",
    "train_dataset = torchvision.datasets.MNIST(root='./tmp/data/', train=True, transform=transform, download=True)\n",
    "test_dataset = torchvision.datasets.MNIST(root='./tmp/data/', train=False, transform=transform, download=False)\n",
    "train_loader = DataLoader(train_dataset, batch_size=BS, shuffle=True, drop_last=True, pin_memory=True, num_workers=8)\n",
    "test_loader = DataLoader(test_dataset, batch_size=BS, shuffle=True, drop_last=True, pin_memory=True, num_workers=8)\n",
    "\n",
    "# Check if CUDA is available\n",
    "DEVICE = torch.device(\"cuda\" if torch.cuda.is_available() else \"cpu\")\n",
    "print(f'Using device ({DEVICE})')\n",
    "\n",
    "# Initialize model\n",
    "model = MNISTModel().to(DEVICE)\n",
    "\n",
    "# Load or train model\n",
    "if os.path.exists(model_file):\n",
    "\t# Load model if it exists\n",
    "\tmodel.load_state_dict(torch.load(model_file, weights_only=True))\n",
    "\tprint(f\"Model loaded from file: {model_file}\")\n",
    "else:\n",
    "\t# Train from scratch otherwise\n",
    "\tloss_fn = nn.CrossEntropyLoss()\n",
    "\n",
    "\t# Replace all ReLU layers with QCFS to improve SNN inference\n",
    "\tswap_layers(model, old_layer_type=nn.ReLU, new_layer_type=QCFS, neuron_args={ \"Q\": 8 })\n",
    "\tmodel = train_ann(model, train_loader, test_loader, loss_fn, EPOCHS, DEVICE, \\\n",
    "\t\t\t\t   save_path=model_file, initial_lr=LR)\n",
    "\n",
    "# Calculate the ANN loss and accuracy\n",
    "ann_loss, ann_acc = test_ann(model, DEVICE, test_loader, loss_fn=nn.CrossEntropyLoss())\n",
    "print(f\"ANN Loss (CrossEntropy): {ann_loss}\")\n",
    "print(f\"ANN Accuracy (CrossEntropy): {ann_acc}\")"
   ]
  },
  {
   "cell_type": "markdown",
   "metadata": {},
   "source": [
    "Convert the ANN to an SNN"
   ]
  },
  {
   "cell_type": "code",
   "execution_count": 6,
   "metadata": {},
   "outputs": [
    {
     "name": "stdout",
     "output_type": "stream",
     "text": [
      "MNISTModel(\n",
      "  (flatten): Flatten(start_dim=1, end_dim=-1)\n",
      "  (w1): Linear(in_features=784, out_features=128, bias=True)\n",
      "  (r1): ReLU()\n",
      "  (w2): Linear(in_features=128, out_features=64, bias=True)\n",
      "  (r2): ReLU()\n",
      "  (drop): Dropout(p=0.5, inplace=False)\n",
      "  (w3): Linear(in_features=64, out_features=10, bias=True)\n",
      ")\n",
      "SpikingNetwork(\n",
      "  (net): MNISTModel(\n",
      "    (flatten): Flatten(start_dim=1, end_dim=-1)\n",
      "    (w1): Linear(in_features=784, out_features=128, bias=True)\n",
      "    (r1): IF(log(dt)=-1, v_r=0.0, v_th=1.0)\n",
      "    (w2): Linear(in_features=128, out_features=64, bias=True)\n",
      "    (r2): IF(log(dt)=-1, v_r=0.0, v_th=1.0)\n",
      "    (drop): Dropout(p=0.5, inplace=False)\n",
      "    (w3): Linear(in_features=64, out_features=10, bias=True)\n",
      "  )\n",
      ")\n"
     ]
    }
   ],
   "source": [
    "from spieks.network.converter import Converter\n",
    "from spieks.neurons import IF\n",
    "print(model)\n",
    "spiking_model = Converter.convert(model, DT, model_subs={ nn.ReLU: IF })\n",
    "print(spiking_model)"
   ]
  },
  {
   "cell_type": "markdown",
   "metadata": {},
   "source": [
    "Evaluate the SNN on classification"
   ]
  },
  {
   "cell_type": "code",
   "execution_count": 9,
   "metadata": {},
   "outputs": [
    {
     "data": {
      "application/vnd.jupyter.widget-view+json": {
       "model_id": "6038fa63702f47f48db15f39c80e11f3",
       "version_major": 2,
       "version_minor": 0
      },
      "text/plain": [
       "  0%|          | 0/312 [00:00<?, ?it/s]"
      ]
     },
     "metadata": {},
     "output_type": "display_data"
    },
    {
     "name": "stdout",
     "output_type": "stream",
     "text": [
      "Final Accuracy: 0.8982371687889099\n"
     ]
    }
   ],
   "source": [
    "from spieks.simulator import Classifier\n",
    "classifier = Classifier(spiking_model, device=DEVICE)\n",
    "activations, loss, accuracy = classifier.evaluate_dataset(test_loader, duration=T, b_show_progress=True)\n",
    "print(f\"Final Accuracy: {accuracy[-1]}\")"
   ]
  },
  {
   "cell_type": "code",
   "execution_count": 12,
   "metadata": {},
   "outputs": [
    {
     "data": {
      "image/png": "[encoded data removed]",
      "text/plain": [
       "<Figure size 640x480 with 1 Axes>"
      ]
     },
     "metadata": {},
     "output_type": "display_data"
    },
    {
     "data": {
      "image/png": "[encoded data removed]",
      "text/plain": [
       "<Figure size 640x480 with 1 Axes>"
      ]
     },
     "metadata": {},
     "output_type": "display_data"
    }
   ],
   "source": [
    "import matplotlib.pyplot as plt\n",
    "import numpy as np\n",
    "\n",
    "TIME = np.arange(len(accuracy)) * DT\n",
    "\n",
    "plt.figure()\n",
    "plt.title(\"Accuracy\")\n",
    "plt.hlines(ann_acc, 0, T, linestyles='--', color='C1', label='QCFS')\n",
    "plt.plot(TIME, accuracy, label='IF')\n",
    "plt.legend(loc='lower right')\n",
    "plt.show()\n",
    "\n",
    "plt.figure()\n",
    "plt.title(\"Loss\")\n",
    "plt.hlines(np.log(ann_loss), 0, T, linestyles='--', color='C1', label='QCFS')\n",
    "plt.plot(TIME, np.log(loss), label='IF')\n",
    "plt.legend()\n",
    "plt.show()"
   ]
  }
 ],
 "metadata": {
  "kernelspec": {
   "display_name": "pgn",
   "language": "python",
   "name": "python3"
  },
  "language_info": {
   "codemirror_mode": {
    "name": "ipython",
    "version": 3
   },
   "file_extension": ".py",
   "mimetype": "text/x-python",
   "name": "python",
   "nbconvert_exporter": "python",
   "pygments_lexer": "ipython3",
   "version": "3.11.11"
  }
 },
 "nbformat": 4,
 "nbformat_minor": 2
}
