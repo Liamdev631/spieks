{
 "cells": [
  {
   "cell_type": "code",
   "execution_count": 1,
   "metadata": {},
   "outputs": [],
   "source": [
    "from spieks.neurons import IF, SpikingNeuron\n",
    "from spieks.network import run_sim\n",
    "from spieks.learning import SpikeTraceLearningRule\n",
    "import torch\n",
    "import torch.nn as nn\n",
    "import matplotlib.pyplot as plt\n",
    "\n",
    "N = 1\n",
    "T = 1\n",
    "DT = 1e-2\n",
    "\n",
    "MAX_HZ = 10"
   ]
  },
  {
   "cell_type": "code",
   "execution_count": 2,
   "metadata": {},
   "outputs": [
    {
     "name": "stdout",
     "output_type": "stream",
     "text": [
      "[]\n",
      "[tensor([0.]), tensor([0.]), tensor([0.]), tensor([0.]), tensor([0.]), tensor([0.]), tensor([0.]), tensor([0.]), tensor([0.]), tensor([0.]), tensor([1.]), tensor([0.]), tensor([0.]), tensor([0.]), tensor([0.]), tensor([0.]), tensor([0.]), tensor([0.]), tensor([0.]), tensor([1.]), tensor([0.]), tensor([0.]), tensor([0.]), tensor([0.]), tensor([0.]), tensor([0.]), tensor([0.]), tensor([0.]), tensor([0.]), tensor([1.]), tensor([0.]), tensor([0.]), tensor([0.]), tensor([0.]), tensor([0.]), tensor([0.]), tensor([0.]), tensor([0.]), tensor([0.]), tensor([1.]), tensor([0.]), tensor([0.]), tensor([0.]), tensor([0.]), tensor([0.]), tensor([0.]), tensor([0.]), tensor([0.]), tensor([0.]), tensor([1.]), tensor([0.]), tensor([0.]), tensor([0.]), tensor([0.]), tensor([0.]), tensor([0.]), tensor([0.]), tensor([0.]), tensor([0.]), tensor([1.]), tensor([0.]), tensor([0.]), tensor([0.]), tensor([0.]), tensor([0.]), tensor([0.]), tensor([0.]), tensor([0.]), tensor([0.]), tensor([1.]), tensor([0.]), tensor([0.]), tensor([0.]), tensor([0.]), tensor([0.]), tensor([0.]), tensor([0.]), tensor([0.]), tensor([0.]), tensor([1.]), tensor([0.]), tensor([0.]), tensor([0.]), tensor([0.]), tensor([0.]), tensor([0.]), tensor([0.]), tensor([0.]), tensor([0.]), tensor([1.]), tensor([0.]), tensor([0.]), tensor([0.]), tensor([0.]), tensor([0.]), tensor([0.]), tensor([0.]), tensor([0.]), tensor([0.]), tensor([1.])]\n"
     ]
    },
    {
     "ename": "RuntimeError",
     "evalue": "torch.cat(): expected a non-empty list of Tensors",
     "output_type": "error",
     "traceback": [
      "\u001b[0;31m---------------------------------------------------------------------------\u001b[0m",
      "\u001b[0;31mRuntimeError\u001b[0m                              Traceback (most recent call last)",
      "Cell \u001b[0;32mIn[2], line 29\u001b[0m\n\u001b[1;32m     27\u001b[0m \u001b[38;5;28mprint\u001b[39m(trace)\n\u001b[1;32m     28\u001b[0m \u001b[38;5;28mprint\u001b[39m(spikes)\n\u001b[0;32m---> 29\u001b[0m trace \u001b[38;5;241m=\u001b[39m \u001b[43mtorch\u001b[49m\u001b[38;5;241;43m.\u001b[39;49m\u001b[43mconcat\u001b[49m\u001b[43m(\u001b[49m\u001b[43mtrace\u001b[49m\u001b[43m)\u001b[49m\n\u001b[1;32m     30\u001b[0m spikes \u001b[38;5;241m=\u001b[39m torch\u001b[38;5;241m.\u001b[39mconcat(spikes)\n\u001b[1;32m     32\u001b[0m \u001b[38;5;66;03m# Plot the activation loss over time\u001b[39;00m\n",
      "\u001b[0;31mRuntimeError\u001b[0m: torch.cat(): expected a non-empty list of Tensors"
     ]
    }
   ],
   "source": [
    "# Build network\n",
    "layer = IF(dt=DT)\n",
    "learning_rule = SpikeTraceLearningRule(layer)\n",
    "\n",
    "net = nn.Sequential(\n",
    "    layer\n",
    ")\n",
    "\n",
    "# Record spike traces\n",
    "trace = []\n",
    "def hook_trace(module: SpikeTraceLearningRule, input, output):\n",
    "    trace.append(module.spike_trace.clone()) \n",
    "    print(\"Hook Triggered\")  # Debug statement\n",
    "learning_rule.register_forward_hook(hook_trace)\n",
    "\n",
    "# Record spikes\n",
    "spikes = []\n",
    "def hook_spikes(module: SpikingNeuron, input, output):\n",
    "    spikes.append(module.spikes.float().clone())\n",
    "layer.register_forward_hook(hook_spikes)\n",
    "\n",
    "# Create an array of scaling input data\n",
    "X = torch.tensor([1.0])\n",
    "\n",
    "# Run for T amount of time\n",
    "TIME, activations = run_sim(net, X * MAX_HZ, T, b_reset_net=True)\n",
    "print(trace)\n",
    "print(spikes)\n",
    "trace = torch.concat(trace)\n",
    "spikes = torch.concat(spikes)\n",
    "\n",
    "# Plot the activation loss over time\n",
    "plt.figure(figsize=(6, 2), dpi=150)\n",
    "plt.step(TIME, spikes, label=\"Activation\")\n",
    "plt.plot(TIME, trace, label=\"Trace\")\n",
    "plt.legend();"
   ]
  }
 ],
 "metadata": {
  "kernelspec": {
   "display_name": "thesis",
   "language": "python",
   "name": "python3"
  },
  "language_info": {
   "codemirror_mode": {
    "name": "ipython",
    "version": 3
   },
   "file_extension": ".py",
   "mimetype": "text/x-python",
   "name": "python",
   "nbconvert_exporter": "python",
   "pygments_lexer": "ipython3",
   "version": "3.11.10"
  }
 },
 "nbformat": 4,
 "nbformat_minor": 2
}
